{
  "nbformat": 4,
  "nbformat_minor": 0,
  "metadata": {
    "colab": {
      "provenance": [],
      "include_colab_link": true
    },
    "kernelspec": {
      "name": "python3",
      "display_name": "Python 3"
    },
    "language_info": {
      "name": "python"
    }
  },
  "cells": [
    {
      "cell_type": "markdown",
      "metadata": {
        "id": "view-in-github",
        "colab_type": "text"
      },
      "source": [
        "<a href=\"https://colab.research.google.com/github/SapanaKolambe/Data-Science-with-Python/blob/main/Python_Pandas_Tutorial_for_Beginners.ipynb\" target=\"_parent\"><img src=\"https://colab.research.google.com/assets/colab-badge.svg\" alt=\"Open In Colab\"/></a>"
      ]
    },
    {
      "cell_type": "markdown",
      "source": [
        "**Python Pandas Tutorial for Beginners**"
      ],
      "metadata": {
        "id": "a5uiq0yteSvC"
      }
    },
    {
      "cell_type": "markdown",
      "source": [
        "Pandas is a Python library which used to analyze data and working with data sets. Basically used for analyzing, cleaning, exploring, and manipulating data."
      ],
      "metadata": {
        "id": "7O9QB1SeeNRo"
      }
    },
    {
      "cell_type": "markdown",
      "source": [
        "**Installation of Pandas(on System)**"
      ],
      "metadata": {
        "id": "00MuCszBerrH"
      }
    },
    {
      "cell_type": "code",
      "source": [
        "# system drive path>pip install pandas"
      ],
      "metadata": {
        "id": "sMilNaase67I"
      },
      "execution_count": null,
      "outputs": []
    },
    {
      "cell_type": "markdown",
      "source": [
        "If it gives error, then use a python software like, Anaconda, Spyder etc which having Pandas installed already."
      ],
      "metadata": {
        "id": "hTfOtyn6fHuP"
      }
    },
    {
      "cell_type": "markdown",
      "source": [
        "**Installation of Pandas(Google Colab)**"
      ],
      "metadata": {
        "id": "uLRTTJYidvfN"
      }
    },
    {
      "cell_type": "code",
      "source": [
        "!pip install pandas"
      ],
      "metadata": {
        "colab": {
          "base_uri": "https://localhost:8080/"
        },
        "id": "h5RL-vYPeLMI",
        "outputId": "fda4af87-647f-4957-b5e8-683e01209637"
      },
      "execution_count": 2,
      "outputs": [
        {
          "output_type": "stream",
          "name": "stdout",
          "text": [
            "Looking in indexes: https://pypi.org/simple, https://us-python.pkg.dev/colab-wheels/public/simple/\n",
            "Requirement already satisfied: pandas in /usr/local/lib/python3.7/dist-packages (1.3.5)\n",
            "Requirement already satisfied: python-dateutil>=2.7.3 in /usr/local/lib/python3.7/dist-packages (from pandas) (2.8.2)\n",
            "Requirement already satisfied: pytz>=2017.3 in /usr/local/lib/python3.7/dist-packages (from pandas) (2022.5)\n",
            "Requirement already satisfied: numpy>=1.17.3 in /usr/local/lib/python3.7/dist-packages (from pandas) (1.21.6)\n",
            "Requirement already satisfied: six>=1.5 in /usr/local/lib/python3.7/dist-packages (from python-dateutil>=2.7.3->pandas) (1.15.0)\n"
          ]
        }
      ]
    },
    {
      "cell_type": "markdown",
      "source": [
        "Once Pandas library is installed, import it in your applications by using import keyword."
      ],
      "metadata": {
        "id": "hKT3nNUlfuGW"
      }
    },
    {
      "cell_type": "code",
      "source": [
        "import pandas as pd"
      ],
      "metadata": {
        "id": "7ApqrDQZf2ae"
      },
      "execution_count": 3,
      "outputs": []
    },
    {
      "cell_type": "markdown",
      "source": [
        "pd is object of oandas library. Now its ready to use.\n",
        "The two major components of pandas are the “**Series**” and “**DataFrame**”."
      ],
      "metadata": {
        "id": "cEAICPpef8a2"
      }
    },
    {
      "cell_type": "markdown",
      "source": [
        "**Pandas Series**\n",
        "\n",
        "“Series” is basically a column in table which holding data of any type like integer, string, float, python objects, etc."
      ],
      "metadata": {
        "id": "bn9CGVWuiG77"
      }
    },
    {
      "cell_type": "code",
      "source": [
        "Country=[\"India\",\"Australia\",\"USA\",\"Sri lanka\",\"Pakistan\"]"
      ],
      "metadata": {
        "id": "i235yx7Lf5Bd"
      },
      "execution_count": 4,
      "outputs": []
    },
    {
      "cell_type": "markdown",
      "source": [
        "Created Country array."
      ],
      "metadata": {
        "id": "GjaHLAsljWlJ"
      }
    },
    {
      "cell_type": "code",
      "source": [
        "list1=pd.Series(Country)\n",
        "print(list1)"
      ],
      "metadata": {
        "colab": {
          "base_uri": "https://localhost:8080/"
        },
        "id": "OL8Skg5djato",
        "outputId": "469878f4-7f44-4835-c14b-3a0677a1230c"
      },
      "execution_count": 5,
      "outputs": [
        {
          "output_type": "stream",
          "name": "stdout",
          "text": [
            "0        India\n",
            "1    Australia\n",
            "2          USA\n",
            "3    Sri lanka\n",
            "4     Pakistan\n",
            "dtype: object\n"
          ]
        }
      ]
    },
    {
      "cell_type": "markdown",
      "source": [
        "If index is not pecified, the values are labeled with their index number. \n",
        "\n",
        "First value has index 0, second value has index 1 etc.\n",
        "\n",
        "We can display a specific value using index."
      ],
      "metadata": {
        "id": "HuIfJxnFjnTP"
      }
    },
    {
      "cell_type": "code",
      "source": [
        "print(list1[1])"
      ],
      "metadata": {
        "colab": {
          "base_uri": "https://localhost:8080/"
        },
        "id": "T0brFGvDkk7o",
        "outputId": "805b88b0-c0e7-483c-d37f-7f348a92d65b"
      },
      "execution_count": 6,
      "outputs": [
        {
          "output_type": "stream",
          "name": "stdout",
          "text": [
            "Australia\n"
          ]
        }
      ]
    },
    {
      "cell_type": "markdown",
      "source": [
        "Using index argument, we can name own labels."
      ],
      "metadata": {
        "id": "12xnjHl4lJIn"
      }
    },
    {
      "cell_type": "code",
      "source": [
        "arr = [\"A\", \"B\", \"C\"]\n",
        "\n",
        "var = pd.Series(arr, index = [10,30,70])\n",
        "\n",
        "print(var)"
      ],
      "metadata": {
        "colab": {
          "base_uri": "https://localhost:8080/"
        },
        "id": "vRBCMCAglQt_",
        "outputId": "5695ae27-fca4-43fa-dbd8-ee532fd7f7ff"
      },
      "execution_count": 7,
      "outputs": [
        {
          "output_type": "stream",
          "name": "stdout",
          "text": [
            "10    A\n",
            "30    B\n",
            "70    C\n",
            "dtype: object\n"
          ]
        }
      ]
    },
    {
      "cell_type": "code",
      "source": [
        "print(var[30])"
      ],
      "metadata": {
        "colab": {
          "base_uri": "https://localhost:8080/"
        },
        "id": "9p8v6_-hl18-",
        "outputId": "4876a00e-13c7-407c-93dd-4fdb5e2f651e"
      },
      "execution_count": 8,
      "outputs": [
        {
          "output_type": "stream",
          "name": "stdout",
          "text": [
            "B\n"
          ]
        }
      ]
    },
    {
      "cell_type": "markdown",
      "source": [
        "**The pandas DataFrame**\n",
        "\n",
        "DataFrames are usually multi-dimensional tables in Pandas.\n",
        "A basic DataFrame, which can be created is an Empty Dataframe."
      ],
      "metadata": {
        "id": "rFccWvCWmWhv"
      }
    },
    {
      "cell_type": "code",
      "source": [
        "frame1 = pd.DataFrame()\n",
        "print (frame1)"
      ],
      "metadata": {
        "colab": {
          "base_uri": "https://localhost:8080/"
        },
        "id": "SwYFAyWzmvK7",
        "outputId": "b4e547d3-f37e-4fc6-d2b0-e28e9c865d1a"
      },
      "execution_count": 9,
      "outputs": [
        {
          "output_type": "stream",
          "name": "stdout",
          "text": [
            "Empty DataFrame\n",
            "Columns: []\n",
            "Index: []\n"
          ]
        }
      ]
    },
    {
      "cell_type": "code",
      "source": [
        "data = {\n",
        "    \"Fruit\": [\"Apple\", \"Banana\", \"Orange\"],\n",
        "  \"calories\": [55, 90, 47]\n",
        "  \n",
        "}\n",
        "\n",
        "frame2 = pd.DataFrame(data)\n",
        "frame3=pd.DataFrame(data) \n",
        "print(frame2)"
      ],
      "metadata": {
        "colab": {
          "base_uri": "https://localhost:8080/"
        },
        "id": "392hLTEHnDKa",
        "outputId": "b4f4cb18-5690-4dae-ddf6-9f1f9bfe6f1b"
      },
      "execution_count": 38,
      "outputs": [
        {
          "output_type": "stream",
          "name": "stdout",
          "text": [
            "    Fruit  calories\n",
            "0   Apple        55\n",
            "1  Banana        90\n",
            "2  Orange        47\n"
          ]
        }
      ]
    },
    {
      "cell_type": "markdown",
      "source": [
        "**Column Selection**"
      ],
      "metadata": {
        "id": "2jfLh1R1qCoY"
      }
    },
    {
      "cell_type": "code",
      "source": [
        "print(frame2[\"Fruit\"])"
      ],
      "metadata": {
        "colab": {
          "base_uri": "https://localhost:8080/"
        },
        "id": "KlgWQRDlqExv",
        "outputId": "d01237f7-d3a6-44d7-fd49-2e1f8e8adc9c"
      },
      "execution_count": 29,
      "outputs": [
        {
          "output_type": "stream",
          "name": "stdout",
          "text": [
            "0     Apple\n",
            "1    Banana\n",
            "2    Orange\n",
            "Name: Fruit, dtype: object\n"
          ]
        }
      ]
    },
    {
      "cell_type": "markdown",
      "source": [
        "**Column Addition**"
      ],
      "metadata": {
        "id": "FvCikH7lq6T-"
      }
    },
    {
      "cell_type": "code",
      "source": [
        "frame2['weight']=[100,50,100]\n",
        "print(frame2)"
      ],
      "metadata": {
        "colab": {
          "base_uri": "https://localhost:8080/"
        },
        "id": "ZVYGCjRKq979",
        "outputId": "30f7d8fc-2c89-4aa5-fce6-98923515d83b"
      },
      "execution_count": 30,
      "outputs": [
        {
          "output_type": "stream",
          "name": "stdout",
          "text": [
            "    Fruit  calories  weight\n",
            "0   Apple        55     100\n",
            "1  Banana        90      50\n",
            "2  Orange        47     100\n"
          ]
        }
      ]
    },
    {
      "cell_type": "markdown",
      "source": [
        "**`Column Deletion`**\n",
        "\n",
        "Columns can be deleted or popped."
      ],
      "metadata": {
        "id": "BYRm903qsSwS"
      }
    },
    {
      "cell_type": "code",
      "source": [
        "del frame2['weight']\n"
      ],
      "metadata": {
        "id": "YS6JOms6sAKl"
      },
      "execution_count": 31,
      "outputs": []
    },
    {
      "cell_type": "code",
      "source": [
        "print(frame2)"
      ],
      "metadata": {
        "colab": {
          "base_uri": "https://localhost:8080/"
        },
        "id": "acX22gqxtfvb",
        "outputId": "09e7a3e6-0d43-4935-e9bc-5a4bdc73889e"
      },
      "execution_count": 32,
      "outputs": [
        {
          "output_type": "stream",
          "name": "stdout",
          "text": [
            "    Fruit  calories\n",
            "0   Apple        55\n",
            "1  Banana        90\n",
            "2  Orange        47\n"
          ]
        }
      ]
    },
    {
      "cell_type": "code",
      "source": [
        "frame2.pop('calories')\n"
      ],
      "metadata": {
        "colab": {
          "base_uri": "https://localhost:8080/"
        },
        "id": "4-Rz3HrUtueJ",
        "outputId": "517ac076-3ce6-4fa6-ad2a-0f4bc7bb398f"
      },
      "execution_count": 35,
      "outputs": [
        {
          "output_type": "execute_result",
          "data": {
            "text/plain": [
              "0    55\n",
              "1    90\n",
              "2    47\n",
              "Name: calories, dtype: int64"
            ]
          },
          "metadata": {},
          "execution_count": 35
        }
      ]
    },
    {
      "cell_type": "code",
      "source": [
        "print(frame2)"
      ],
      "metadata": {
        "colab": {
          "base_uri": "https://localhost:8080/"
        },
        "id": "ujSh9ccit-3f",
        "outputId": "d1a79c49-1836-49bc-e9e7-9599a1346e49"
      },
      "execution_count": 36,
      "outputs": [
        {
          "output_type": "stream",
          "name": "stdout",
          "text": [
            "    Fruit\n",
            "0   Apple\n",
            "1  Banana\n",
            "2  Orange\n"
          ]
        }
      ]
    },
    {
      "cell_type": "markdown",
      "source": [
        "**Addition of Rows**"
      ],
      "metadata": {
        "id": "k3RWWpXFuIEX"
      }
    },
    {
      "cell_type": "code",
      "source": [
        "frame2 = frame2.append(frame3)"
      ],
      "metadata": {
        "id": "lC6vrTbxuJX4"
      },
      "execution_count": 39,
      "outputs": []
    },
    {
      "cell_type": "code",
      "source": [
        "print(frame2)"
      ],
      "metadata": {
        "colab": {
          "base_uri": "https://localhost:8080/"
        },
        "id": "pbPbgpkPuiTi",
        "outputId": "0ccc874e-c31b-4825-c31d-e8d481d9882c"
      },
      "execution_count": 40,
      "outputs": [
        {
          "output_type": "stream",
          "name": "stdout",
          "text": [
            "    Fruit  calories\n",
            "0   Apple        55\n",
            "1  Banana        90\n",
            "2  Orange        47\n",
            "0   Apple        55\n",
            "1  Banana        90\n",
            "2  Orange        47\n"
          ]
        }
      ]
    },
    {
      "cell_type": "markdown",
      "source": [
        "**Deletion of Rows**"
      ],
      "metadata": {
        "id": "KCO9pXQdupfO"
      }
    },
    {
      "cell_type": "code",
      "source": [
        "frame2 = frame2.drop(2)\n",
        "print(frame2)"
      ],
      "metadata": {
        "colab": {
          "base_uri": "https://localhost:8080/"
        },
        "id": "P9dGaj-cuqcB",
        "outputId": "d90fb26f-5b9a-4ae5-b859-1ae3f14f7261"
      },
      "execution_count": 41,
      "outputs": [
        {
          "output_type": "stream",
          "name": "stdout",
          "text": [
            "    Fruit  calories\n",
            "0   Apple        55\n",
            "1  Banana        90\n",
            "0   Apple        55\n",
            "1  Banana        90\n"
          ]
        }
      ]
    }
  ]
}