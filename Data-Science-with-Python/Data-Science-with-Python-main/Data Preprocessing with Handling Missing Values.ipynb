{
  "cells": [
    {
      "cell_type": "markdown",
      "metadata": {
        "id": "6d_0478tk-yP"
      },
      "source": [
        "**Data pre-processing**\n",
        "\n",
        "\n",
        "\n",
        "Installing Libraries"
      ]
    },
    {
      "cell_type": "code",
      "execution_count": null,
      "metadata": {
        "id": "a8hEEEhqK36L"
      },
      "outputs": [],
      "source": [
        "!pip install pandas"
      ]
    },
    {
      "cell_type": "markdown",
      "metadata": {
        "id": "7zRjdI1MlS-A"
      },
      "source": [
        "**Importing libraries**"
      ]
    },
    {
      "cell_type": "code",
      "execution_count": null,
      "metadata": {
        "id": "-68XSQ_2LzwA"
      },
      "outputs": [],
      "source": [
        "import pandas as pd"
      ]
    },
    {
      "cell_type": "markdown",
      "metadata": {
        "id": "nITvRnAVlfH-"
      },
      "source": [
        "Read Dataset                                      \n",
        "Use the **read_csv()** function of pandas to read the file                             \n",
        "Mention Correct File path(location)                                                                                                 \n",
        "Name of Dataset :abc.csv\n",
        "Contains \n",
        " \n",
        " Country              Age               Salary                Purchased\n",
        "                                                                              \n",
        "France                44.0               72000.0                No                                      \n",
        "\n",
        "Spain  27.0  48000.0       Yes \n",
        "\n",
        "\n",
        "Germany  30.0  54000.0        No\n",
        "\n",
        "Spain  38.0  61000.0        No\n",
        "\n",
        "Germany  40.0      NaN       Yes\n",
        "\n",
        "France  35.0  58000.0       Yes\n",
        "\n",
        "Spain   NaN  52000.0        No\n",
        "\n",
        "France  48.0  79000.0       Yes\n",
        "\n",
        "Germany  50.0  83000.0        No\n",
        "\n",
        "France  37.0  67000.0       Yes"
      ]
    },
    {
      "cell_type": "code",
      "execution_count": null,
      "metadata": {
        "colab": {
          "base_uri": "https://localhost:8080/"
        },
        "id": "vpcnp4XXLz5u",
        "outputId": "4bf9d096-ec1b-4658-a1df-38475c9db704"
      },
      "outputs": [
        {
          "name": "stdout",
          "output_type": "stream",
          "text": [
            "   Country   Age   Salary Purchased\n",
            "0   France  44.0  72000.0        No\n",
            "1    Spain  27.0  48000.0       Yes\n",
            "2  Germany  30.0  54000.0        No\n",
            "3    Spain  38.0  61000.0        No\n",
            "4  Germany  40.0      NaN       Yes\n",
            "5   France  35.0  58000.0       Yes\n",
            "6    Spain   NaN  52000.0        No\n",
            "7   France  48.0  79000.0       Yes\n",
            "8  Germany  50.0  83000.0        No\n",
            "9   France  37.0  67000.0       Yes\n"
          ]
        }
      ],
      "source": [
        "df = pd.read_csv(\"/content/drive/MyDrive/Colab Notebooks/abc.csv\",encoding='latin-1')\n",
        "print(df)"
      ]
    },
    {
      "cell_type": "markdown",
      "metadata": {
        "id": "owPE9FkfmOqT"
      },
      "source": []
    },
    {
      "cell_type": "markdown",
      "metadata": {
        "id": "4SFFhOFQmUpe"
      },
      "source": [
        "**Display count how many missing values there are for each column.**\n"
      ]
    },
    {
      "cell_type": "code",
      "execution_count": null,
      "metadata": {
        "colab": {
          "base_uri": "https://localhost:8080/"
        },
        "id": "7Rp8J75OLz_G",
        "outputId": "0b105bf1-9dcb-44bc-e790-5b4ee62cb833"
      },
      "outputs": [
        {
          "data": {
            "text/plain": [
              "Country      0\n",
              "Age          1\n",
              "Salary       1\n",
              "Purchased    0\n",
              "dtype: int64"
            ]
          },
          "execution_count": 5,
          "metadata": {},
          "output_type": "execute_result"
        }
      ],
      "source": [
        "df.isna().sum()"
      ]
    },
    {
      "cell_type": "markdown",
      "metadata": {
        "id": "UHUvboNjmeXk"
      },
      "source": [
        "**Display the  count percentage of missing values for each column**"
      ]
    },
    {
      "cell_type": "code",
      "execution_count": null,
      "metadata": {
        "colab": {
          "base_uri": "https://localhost:8080/"
        },
        "id": "ihKJLbyEL0Bn",
        "outputId": "88289f87-5004-4fc5-ff44-a0ce28435a3c"
      },
      "outputs": [
        {
          "name": "stdout",
          "output_type": "stream",
          "text": [
            "Country       0.0\n",
            "Age          10.0\n",
            "Salary       10.0\n",
            "Purchased     0.0\n",
            "dtype: float64\n"
          ]
        }
      ],
      "source": [
        "print(df.isna().sum()/len(df)*100)"
      ]
    },
    {
      "cell_type": "markdown",
      "metadata": {
        "id": "j3mkgH5zmpJd"
      },
      "source": [
        "**fillna():** **The fillna() function replaces all the NaN values with the value passed as argument.** "
      ]
    },
    {
      "cell_type": "code",
      "execution_count": null,
      "metadata": {
        "colab": {
          "base_uri": "https://localhost:8080/"
        },
        "id": "W_Udm-KjMadW",
        "outputId": "9d56023b-f1e0-47aa-f25b-1abfafc74ff2"
      },
      "outputs": [
        {
          "name": "stdout",
          "output_type": "stream",
          "text": [
            "   Country   Age   Salary Purchased\n",
            "0   France  44.0  72000.0        No\n",
            "1    Spain  27.0  48000.0       Yes\n",
            "2  Germany  30.0  54000.0        No\n",
            "3    Spain  38.0  61000.0        No\n",
            "4  Germany  40.0     12.0       Yes\n",
            "5   France  35.0  58000.0       Yes\n",
            "6    Spain  12.0  52000.0        No\n",
            "7   France  48.0  79000.0       Yes\n",
            "8  Germany  50.0  83000.0        No\n",
            "9   France  37.0  67000.0       Yes\n"
          ]
        }
      ],
      "source": [
        "print(df.fillna(12))"
      ]
    },
    {
      "cell_type": "markdown",
      "metadata": {
        "id": "WtDsT7vvm2uT"
      },
      "source": [
        "**The fillna() function replaces all the NaN values with the mean of same column as argument.** "
      ]
    },
    {
      "cell_type": "code",
      "execution_count": null,
      "metadata": {
        "colab": {
          "base_uri": "https://localhost:8080/"
        },
        "id": "lhzyHURGMaiF",
        "outputId": "d18f3ef5-3882-4c12-9eb2-4c6870b1fce8"
      },
      "outputs": [
        {
          "name": "stdout",
          "output_type": "stream",
          "text": [
            "   Country        Age        Salary Purchased\n",
            "0   France  44.000000  72000.000000        No\n",
            "1    Spain  27.000000  48000.000000       Yes\n",
            "2  Germany  30.000000  54000.000000        No\n",
            "3    Spain  38.000000  61000.000000        No\n",
            "4  Germany  40.000000  63777.777778       Yes\n",
            "5   France  35.000000  58000.000000       Yes\n",
            "6    Spain  38.777778  52000.000000        No\n",
            "7   France  48.000000  79000.000000       Yes\n",
            "8  Germany  50.000000  83000.000000        No\n",
            "9   France  37.000000  67000.000000       Yes\n"
          ]
        },
        {
          "name": "stderr",
          "output_type": "stream",
          "text": [
            "/usr/local/lib/python3.7/dist-packages/ipykernel_launcher.py:1: FutureWarning: Dropping of nuisance columns in DataFrame reductions (with 'numeric_only=None') is deprecated; in a future version this will raise TypeError.  Select only valid columns before calling the reduction.\n",
            "  \"\"\"Entry point for launching an IPython kernel.\n"
          ]
        }
      ],
      "source": [
        "print(df.fillna(df.mean()))\n"
      ]
    },
    {
      "cell_type": "markdown",
      "metadata": {
        "id": "2E5874SPnZ-O"
      },
      "source": [
        "**Replace a missing value over a column, with the interpolation between the previous and the next ones.**\n"
      ]
    },
    {
      "cell_type": "code",
      "execution_count": null,
      "metadata": {
        "colab": {
          "base_uri": "https://localhost:8080/"
        },
        "id": "bq85zmLwMak1",
        "outputId": "eff4024f-e459-4cc2-f919-2f999d07927c"
      },
      "outputs": [
        {
          "name": "stdout",
          "output_type": "stream",
          "text": [
            "   Country   Age   Salary Purchased\n",
            "0   France  44.0  72000.0        No\n",
            "1    Spain  27.0  48000.0       Yes\n",
            "2  Germany  30.0  54000.0        No\n",
            "3    Spain  38.0  61000.0        No\n",
            "4  Germany  40.0  59500.0       Yes\n",
            "5   France  35.0  58000.0       Yes\n",
            "6    Spain  41.5  52000.0        No\n",
            "7   France  48.0  79000.0       Yes\n",
            "8  Germany  50.0  83000.0        No\n",
            "9   France  37.0  67000.0       Yes\n"
          ]
        }
      ],
      "source": [
        "print(df.interpolate())"
      ]
    },
    {
      "cell_type": "markdown",
      "metadata": {
        "id": "wAkHLRcsnh1k"
      },
      "source": [
        "**Data binning (or bucketing) groups data in bins (or buckets)**, \n",
        "in the sense that it replaces values contained into a small interval with a single representative value for that interval.                                                                         \n",
        "20 to 30 : Youth,                                                                    \n",
        "30 to 40 : Adult,                                                                      \n",
        "40 to 50 : Senior,"
      ]
    },
    {
      "cell_type": "code",
      "execution_count": null,
      "metadata": {
        "colab": {
          "base_uri": "https://localhost:8080/"
        },
        "id": "2S6aNymEManN",
        "outputId": "8a599875-d4cf-4d36-8445-2738d98d0909"
      },
      "outputs": [
        {
          "name": "stdout",
          "output_type": "stream",
          "text": [
            "   Country   Age   Salary Purchased age_category\n",
            "0   France  44.0  72000.0        No       senior\n",
            "1    Spain  27.0  48000.0       Yes        youth\n",
            "2  Germany  30.0  54000.0        No        youth\n",
            "3    Spain  38.0  61000.0        No        adult\n",
            "4  Germany  40.0      NaN       Yes        adult\n",
            "5   France  35.0  58000.0       Yes        adult\n",
            "6    Spain   NaN  52000.0        No          NaN\n",
            "7   France  48.0  79000.0       Yes       senior\n",
            "8  Germany  50.0  83000.0        No       senior\n",
            "9   France  37.0  67000.0       Yes        adult\n"
          ]
        }
      ],
      "source": [
        "bins=[20,30,40,50]\n",
        "\n",
        "groups_name=['youth','adult','senior']\n",
        "\n",
        "df['age_category']=pd.cut(df['Age'],bins,labels=groups_name)\n",
        "\n",
        "print(df)\n"
      ]
    },
    {
      "cell_type": "code",
      "execution_count": null,
      "metadata": {
        "id": "2NOpWIWuMasH"
      },
      "outputs": [],
      "source": []
    }
  ],
  "metadata": {
    "colab": {
      "collapsed_sections": [],
      "provenance": []
    },
    "kernelspec": {
      "display_name": "Python 3",
      "name": "python3"
    },
    "language_info": {
      "name": "python"
    }
  },
  "nbformat": 4,
  "nbformat_minor": 0
}
