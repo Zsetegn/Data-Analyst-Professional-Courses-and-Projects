{
  "cells": [
    {
      "cell_type": "markdown",
      "metadata": {
        "id": "J_5MdOM-3nZS"
      },
      "source": [
        "# Python Basics NoteBook"
      ]
    },
    {
      "cell_type": "code",
      "execution_count": null,
      "metadata": {
        "id": "6cme-0op3nZY"
      },
      "outputs": [],
      "source": [
        "#Write a Python code to return your Python version\n"
      ]
    },
    {
      "cell_type": "code",
      "execution_count": null,
      "metadata": {
        "id": "OKa3jMsU3nZc"
      },
      "outputs": [],
      "source": [
        "#Write a Python code to declare variable id=\"513\".\n",
        "#Print the following statement \"customer id =513\". [Don't use print(\"customer id =513\")]\n"
      ]
    },
    {
      "cell_type": "code",
      "execution_count": null,
      "metadata": {
        "id": "AhTmPHXh3nZe"
      },
      "outputs": [],
      "source": [
        "#Run the following statement, why there is an error\n",
        "\n",
        "id=id+1"
      ]
    },
    {
      "cell_type": "code",
      "execution_count": null,
      "metadata": {
        "id": "YlenepdY3nZe"
      },
      "outputs": [],
      "source": [
        "#Convert the variable id into an integer, increment it by 1.\n",
        "#Assign the result to variable new_id.\n",
        "#Print the new_id\n"
      ]
    },
    {
      "cell_type": "code",
      "execution_count": null,
      "metadata": {
        "id": "hlIDy0fr3nZf"
      },
      "outputs": [],
      "source": [
        "#Write a Python code to print the following string in a specific format (see the output).\n",
        "\n",
        "# Twinkle, twinkle, little star,\n",
        "#     How I wonder what you are!\n",
        "#        Up above the world so high,\n",
        "#            Like a diamond in the sky.\n"
      ]
    },
    {
      "cell_type": "code",
      "execution_count": null,
      "metadata": {
        "id": "wULgGY413nZg"
      },
      "outputs": [],
      "source": [
        "#Givin the following string variable, # Print the first element in the string\n",
        "\n",
        "course=\"Python for Data Science\""
      ]
    },
    {
      "cell_type": "code",
      "execution_count": null,
      "metadata": {
        "id": "HGBG7Plt3nZh"
      },
      "outputs": [],
      "source": [
        "# Print the element on the 13th index in the string\n"
      ]
    },
    {
      "cell_type": "code",
      "execution_count": null,
      "metadata": {
        "id": "1i90OdsZ3nZi"
      },
      "outputs": [],
      "source": [
        "# Find the length of string\n"
      ]
    },
    {
      "cell_type": "code",
      "execution_count": null,
      "metadata": {
        "id": "OO8-5wa63nZj"
      },
      "outputs": [],
      "source": [
        "# Print the last element in the string [use negative index]\n"
      ]
    },
    {
      "cell_type": "code",
      "execution_count": null,
      "metadata": {
        "id": "B4UvCRTC3nZk"
      },
      "outputs": [],
      "source": [
        "# Take the slice on variable course with only index 11 to index 14\n"
      ]
    },
    {
      "cell_type": "code",
      "execution_count": null,
      "metadata": {
        "id": "1B4GRxmp3nZk"
      },
      "outputs": [],
      "source": [
        "# Get every third element in the range from index 0 to index 20\n"
      ]
    },
    {
      "cell_type": "code",
      "execution_count": null,
      "metadata": {
        "id": "nxVOWd_u3nZl"
      },
      "outputs": [],
      "source": [
        "# Concatenate course string with \", AI & Development\"\n"
      ]
    },
    {
      "cell_type": "code",
      "execution_count": null,
      "metadata": {
        "id": "Ipf5-S7o3nZl"
      },
      "outputs": [],
      "source": [
        "# Replace all the spaces with (_). New string should looks like\"Python_for_Data_Science,_AI_&_Development\"\n"
      ]
    },
    {
      "cell_type": "code",
      "execution_count": null,
      "metadata": {
        "id": "exiIsbws3nZm"
      },
      "outputs": [],
      "source": [
        "# Convert all the characters in string to upper case\n"
      ]
    }
  ],
  "metadata": {
    "kernelspec": {
      "display_name": "Python 3 (ipykernel)",
      "language": "python",
      "name": "python3"
    },
    "language_info": {
      "codemirror_mode": {
        "name": "ipython",
        "version": 3
      },
      "file_extension": ".py",
      "mimetype": "text/x-python",
      "name": "python",
      "nbconvert_exporter": "python",
      "pygments_lexer": "ipython3",
      "version": "3.9.12"
    },
    "colab": {
      "provenance": []
    }
  },
  "nbformat": 4,
  "nbformat_minor": 0
}