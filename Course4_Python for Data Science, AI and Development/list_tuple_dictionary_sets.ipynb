{
  "nbformat": 4,
  "nbformat_minor": 0,
  "metadata": {
    "colab": {
      "provenance": [],
      "toc_visible": true
    },
    "kernelspec": {
      "name": "python3",
      "display_name": "Python 3"
    },
    "language_info": {
      "name": "python"
    }
  },
  "cells": [
    {
      "cell_type": "markdown",
      "source": [
        "**Loops-  While and for**\n",
        "\n",
        "**Data Structures- List, Tuple, Dicitonary and sets**\n",
        "\n",
        "**Functions - built in and user defined function**"
      ],
      "metadata": {
        "id": "N8vUcnKRMXRD"
      }
    },
    {
      "cell_type": "code",
      "execution_count": null,
      "metadata": {
        "colab": {
          "base_uri": "https://localhost:8080/"
        },
        "id": "6sSFUETTKBOL",
        "outputId": "16265c04-9d20-4c5d-d436-d328b43c34d4"
      },
      "outputs": [
        {
          "output_type": "stream",
          "name": "stdout",
          "text": [
            "Hello\n",
            "Hello\n",
            "Hello\n",
            "Hello\n",
            "Hello\n"
          ]
        }
      ],
      "source": [
        "x=1  #beg\n",
        "while x<=10:  #end\n",
        "  print(\"Hello\")\n",
        "  x=x+2  #jump/increment    x+=1\n"
      ]
    },
    {
      "cell_type": "code",
      "source": [
        "#Print all the numbers between 40-20\n",
        "x=40\n",
        "while x>=20:\n",
        "  print(x,end=\" \")\n",
        "  x-=1"
      ],
      "metadata": {
        "colab": {
          "base_uri": "https://localhost:8080/"
        },
        "id": "97F5Og-MNysZ",
        "outputId": "27cb24eb-4ef5-4947-9557-397e21a0fa9a"
      },
      "execution_count": null,
      "outputs": [
        {
          "output_type": "stream",
          "name": "stdout",
          "text": [
            "40 39 38 37 36 35 34 33 32 31 30 29 28 27 26 25 24 23 22 21 20 "
          ]
        }
      ]
    },
    {
      "cell_type": "code",
      "source": [
        "#Calculate sum of all the even numbers between 20-40\n",
        "\n",
        "num=int(input(\"Enter a number:\"))\n",
        "if num%2==0:\n",
        "  print(\"Even num\")\n",
        "else:\n",
        "  print(\"odd number\")\n"
      ],
      "metadata": {
        "id": "oK_35XUDOgK-"
      },
      "execution_count": null,
      "outputs": []
    },
    {
      "cell_type": "code",
      "source": [
        "x=int(input(\"enter the beg number of the range:\"))\n",
        "y=int(input(\"Enter the end number of a range:\"))\n",
        "while x<=y:\n",
        "  if x%2==0:\n",
        "    print(x)\n",
        "  x=x+1"
      ],
      "metadata": {
        "colab": {
          "base_uri": "https://localhost:8080/"
        },
        "id": "TwkGpL7tO50U",
        "outputId": "c7e98f30-60c7-4a1e-8586-d8a9039dfc24"
      },
      "execution_count": null,
      "outputs": [
        {
          "output_type": "stream",
          "name": "stdout",
          "text": [
            "enter the beg number of the range:1\n",
            "Enter the end number of a range:30\n",
            "2\n",
            "4\n",
            "6\n",
            "8\n",
            "10\n",
            "12\n",
            "14\n",
            "16\n",
            "18\n",
            "20\n",
            "22\n",
            "24\n",
            "26\n",
            "28\n",
            "30\n"
          ]
        }
      ]
    },
    {
      "cell_type": "code",
      "source": [
        "#Print all the numbers divisible by 5 between 50-100\n",
        "\n",
        "for x in range(50,101,1):\n",
        "  if x%5==0:\n",
        "    print(x)\n",
        "\n"
      ],
      "metadata": {
        "colab": {
          "base_uri": "https://localhost:8080/"
        },
        "id": "UBhSfgqnPmBA",
        "outputId": "a295e614-aa4e-4f9e-b011-646398435f15"
      },
      "execution_count": null,
      "outputs": [
        {
          "output_type": "stream",
          "name": "stdout",
          "text": [
            "50\n",
            "55\n",
            "60\n",
            "65\n",
            "70\n",
            "75\n",
            "80\n",
            "85\n",
            "90\n",
            "95\n",
            "100\n"
          ]
        }
      ]
    },
    {
      "cell_type": "code",
      "source": [
        "#Prime number  - Take a number from a user and tell whether its a prime number or not!\n",
        "#jump statements - break or continue\n",
        "num=int(input(\"Enter a number to check whether its a prime num or not:\"))\n",
        "flag=1\n",
        "\n",
        "for i in range(2,num):\n",
        "    if num%i==0:\n",
        "      flag=0\n",
        "      break\n",
        "\n",
        "if flag==0:\n",
        "  print(\"Not a prime number\")\n",
        "else:\n",
        "  print(\"Prime number\")\n"
      ],
      "metadata": {
        "colab": {
          "base_uri": "https://localhost:8080/"
        },
        "id": "qbiPTb-JQSYm",
        "outputId": "3cff01a1-0636-49d7-fb00-685c65b94bb7"
      },
      "execution_count": null,
      "outputs": [
        {
          "output_type": "stream",
          "name": "stdout",
          "text": [
            "Enter a number to check whether its a prime num or not:17\n",
            "Prime number\n"
          ]
        }
      ]
    },
    {
      "cell_type": "code",
      "source": [
        "choice='y'\n",
        "while choice.lower()=='y':\n",
        "  print(\"Hello\")\n",
        "\n",
        "  choice=input(\"Do you wish to continue? (y/n):\")\n",
        "\n"
      ],
      "metadata": {
        "colab": {
          "base_uri": "https://localhost:8080/"
        },
        "id": "gm44a2z6SGoF",
        "outputId": "5651340e-58bd-4918-d135-7da639770d62"
      },
      "execution_count": null,
      "outputs": [
        {
          "name": "stdout",
          "output_type": "stream",
          "text": [
            "Hello\n",
            "Do you wish to continue? (y/n):y\n",
            "Hello\n",
            "Do you wish to continue? (y/n):Y\n",
            "Hello\n",
            "Do you wish to continue? (y/n):y\n",
            "Hello\n",
            "Do you wish to continue? (y/n):j\n"
          ]
        }
      ]
    },
    {
      "cell_type": "code",
      "source": [
        "while True:\n",
        "  print(\"1. Calculate sum of two numbers:\")\n",
        "  print(\"2. Find whether a number is an even/odd\")\n",
        "  print(\"3. exit\")\n",
        "  ans=input(\"Enter your choice 1/2/3:\")\n",
        "  if ans==\"1\":\n",
        "    x=int(input(\"Enter a number:\"))\n",
        "    y=int(input(\"Enter a number:\"))\n",
        "    print(x+y)\n",
        "  elif ans==\"2\":\n",
        "    num=int(input(\"Enter a number:\"))\n",
        "    if num%2==0:\n",
        "      print(\"even\")\n",
        "    else:\n",
        "      print(\"odd\")\n",
        "\n",
        "  elif ans==\"3\":\n",
        "    break\n",
        "  else:\n",
        "    print(\"Invalid choice\")\n",
        "    continue\n",
        "\n",
        "\n"
      ],
      "metadata": {
        "colab": {
          "base_uri": "https://localhost:8080/"
        },
        "id": "iIy0jQkQTJBv",
        "outputId": "2458d985-1b40-4834-d5ce-1209c60f6329"
      },
      "execution_count": null,
      "outputs": [
        {
          "name": "stdout",
          "output_type": "stream",
          "text": [
            "1. Calculate sum of two numbers:\n",
            "2. Find whether a number is an even/odd\n",
            "3. exit\n",
            "Enter your choice 1/2/3:1\n",
            "Enter a number:3\n",
            "Enter a number:4\n",
            "7\n",
            "1. Calculate sum of two numbers:\n",
            "2. Find whether a number is an even/odd\n",
            "3. exit\n",
            "Enter your choice 1/2/3:6\n",
            "Invalid choice\n",
            "1. Calculate sum of two numbers:\n",
            "2. Find whether a number is an even/odd\n",
            "3. exit\n",
            "Enter your choice 1/2/3:3\n"
          ]
        }
      ]
    },
    {
      "cell_type": "markdown",
      "source": [
        "**DATA STRUCTURES**"
      ],
      "metadata": {
        "id": "DQmL7v2WXi2J"
      }
    },
    {
      "cell_type": "code",
      "source": [
        "#List - []\n",
        "\n",
        "fruits=['Banana','Mango','Apple','Cherry','Guava','Watermelon']\n",
        "print(fruits[-5])\n",
        "\n"
      ],
      "metadata": {
        "colab": {
          "base_uri": "https://localhost:8080/"
        },
        "id": "f47Q2OlaXnPN",
        "outputId": "9513dc75-cae9-4b23-a15f-d6c822e4b727"
      },
      "execution_count": null,
      "outputs": [
        {
          "output_type": "stream",
          "name": "stdout",
          "text": [
            "Mango\n"
          ]
        }
      ]
    },
    {
      "cell_type": "code",
      "source": [
        "#List Slicing\n",
        "print(fruits)\n",
        "# print(fruits[2:])\n",
        "# print(fruits[:])\n",
        "# print(fruits[::2])\n",
        "print(fruits[-1:-4:-1])\n",
        "#Reverse list\n",
        "print(fruits[::-1])\n",
        "\n",
        "\n"
      ],
      "metadata": {
        "colab": {
          "base_uri": "https://localhost:8080/"
        },
        "id": "0ztebiSQYelw",
        "outputId": "f00caafb-d6ae-4cc5-f29a-03fdeebb99a1"
      },
      "execution_count": null,
      "outputs": [
        {
          "output_type": "stream",
          "name": "stdout",
          "text": [
            "['Banana', 'Mango', 'Apple', 'Cherry', 'Guava', 'Watermelon']\n",
            "['Watermelon', 'Guava', 'Cherry']\n",
            "['Watermelon', 'Guava', 'Cherry', 'Apple', 'Mango', 'Banana']\n"
          ]
        }
      ]
    },
    {
      "cell_type": "code",
      "source": [
        "L=[2,3,4,5,6,7,\"apple\",5.6]\n",
        "for i in L:\n",
        "  print(i,end=\" \")\n"
      ],
      "metadata": {
        "colab": {
          "base_uri": "https://localhost:8080/"
        },
        "id": "oc-MZDY3Zdqy",
        "outputId": "5ec1139f-171a-47c9-e505-62cbefaa8fe1"
      },
      "execution_count": null,
      "outputs": [
        {
          "output_type": "stream",
          "name": "stdout",
          "text": [
            "2 3 4 5 6 7 apple 5.6 "
          ]
        }
      ]
    },
    {
      "cell_type": "code",
      "source": [
        "print(len(L))"
      ],
      "metadata": {
        "colab": {
          "base_uri": "https://localhost:8080/"
        },
        "id": "bae_UBS2Z9bz",
        "outputId": "e2e7a42b-fad9-44f8-9b58-2fb5b2259525"
      },
      "execution_count": null,
      "outputs": [
        {
          "output_type": "stream",
          "name": "stdout",
          "text": [
            "8\n"
          ]
        }
      ]
    },
    {
      "cell_type": "code",
      "source": [
        "for i in range(0,len(L)):   #when you have to refer to the index value\n",
        "  print(L[i])"
      ],
      "metadata": {
        "colab": {
          "base_uri": "https://localhost:8080/"
        },
        "id": "ib_xBDDaZw5J",
        "outputId": "bb6f84de-6734-45a0-d01a-c5e27cc8d0f2"
      },
      "execution_count": null,
      "outputs": [
        {
          "output_type": "stream",
          "name": "stdout",
          "text": [
            "0\n",
            "1\n",
            "2\n",
            "3\n",
            "4\n",
            "5\n",
            "6\n",
            "7\n"
          ]
        }
      ]
    },
    {
      "cell_type": "code",
      "source": [
        "#Membership operator - in and not in\n",
        "\n",
        "L=[23,45,67,8,9,345,23,56]\n",
        "num=int(input(\"Enter an element:\"))\n",
        "\n",
        "if num in L:\n",
        "  print(\"Found\")\n",
        "else:\n",
        "  print(\"Not Found\")"
      ],
      "metadata": {
        "colab": {
          "base_uri": "https://localhost:8080/"
        },
        "id": "8iIkNgIKajPn",
        "outputId": "e7b4dd47-486d-4b96-8fdd-9d94ca618d25"
      },
      "execution_count": null,
      "outputs": [
        {
          "output_type": "stream",
          "name": "stdout",
          "text": [
            "Enter an element:45\n",
            "Found\n"
          ]
        }
      ]
    },
    {
      "cell_type": "code",
      "source": [
        "#Add new element to the list - list is mutable\n",
        "# append(), extend(), insert()\n",
        "\n",
        "L.append([1000,9000])\n",
        "print(L[11][-1])  #nested list\n"
      ],
      "metadata": {
        "colab": {
          "base_uri": "https://localhost:8080/"
        },
        "id": "3kE_Irzoa7kp",
        "outputId": "1b7bd59f-d867-4ad7-e526-8354e67a79e1"
      },
      "execution_count": null,
      "outputs": [
        {
          "output_type": "stream",
          "name": "stdout",
          "text": [
            "9000\n"
          ]
        }
      ]
    },
    {
      "cell_type": "code",
      "source": [
        "L.insert(3,5000)\n",
        "print(L)"
      ],
      "metadata": {
        "colab": {
          "base_uri": "https://localhost:8080/"
        },
        "id": "pGz3KcMZbyO-",
        "outputId": "66171b74-b03d-47b0-ce6d-eb1db2faa2a5"
      },
      "execution_count": null,
      "outputs": [
        {
          "output_type": "stream",
          "name": "stdout",
          "text": [
            "[23, 45, 67, 5000, 8, 9, 345, 23, 56, 1000, 2000, 4000, [1000, 9000], [1000, 9000], [1000, 9000]]\n"
          ]
        }
      ]
    },
    {
      "cell_type": "code",
      "source": [
        "L.extend([2000,4000])\n",
        "print(L)"
      ],
      "metadata": {
        "colab": {
          "base_uri": "https://localhost:8080/"
        },
        "id": "0XluT2xqbH7K",
        "outputId": "a26a99b6-e942-42a0-d35a-f9c3fe4f3c85"
      },
      "execution_count": null,
      "outputs": [
        {
          "output_type": "stream",
          "name": "stdout",
          "text": [
            "[23, 45, 67, 8, 9, 345, 23, 56, 1000, 2000, 4000]\n"
          ]
        }
      ]
    },
    {
      "cell_type": "code",
      "source": [
        "#Dynamic List\n",
        "name=[]\n",
        "#name=list()\n",
        "\n",
        "for i in range(1,6):\n",
        "  n=input(\"enter the name:\")\n",
        "  name.append(n)\n",
        "\n",
        "\n",
        "print(name)\n",
        "\n"
      ],
      "metadata": {
        "colab": {
          "base_uri": "https://localhost:8080/"
        },
        "id": "xbRt3Oq9b7Gw",
        "outputId": "c8f0ab70-ff10-439a-cf26-321c7ffe7111"
      },
      "execution_count": null,
      "outputs": [
        {
          "output_type": "stream",
          "name": "stdout",
          "text": [
            "enter the name:Geetu\n",
            "enter the name:Nancy\n",
            "enter the name:Copper\n",
            "enter the name:ronny\n",
            "enter the name:Star\n",
            "['Geetu', 'Nancy', 'Copper', 'ronny', 'Star']\n"
          ]
        }
      ]
    },
    {
      "cell_type": "code",
      "source": [
        "#Removing elements from a list\n",
        "\n",
        "#pop, remove, del\n",
        "\n",
        "name.remove('Star')\n",
        "print(name)"
      ],
      "metadata": {
        "colab": {
          "base_uri": "https://localhost:8080/"
        },
        "id": "zr97cmhcccwV",
        "outputId": "c92dfdcf-6c08-4c45-b65e-c66f3db9a183"
      },
      "execution_count": null,
      "outputs": [
        {
          "output_type": "stream",
          "name": "stdout",
          "text": [
            "['Geetu', 'Nancy', 'Copper', 'ronny']\n"
          ]
        }
      ]
    },
    {
      "cell_type": "code",
      "source": [
        "name.pop()\n",
        "print(name)"
      ],
      "metadata": {
        "colab": {
          "base_uri": "https://localhost:8080/"
        },
        "id": "wFhpWmvlcp2f",
        "outputId": "f93d0a0a-d570-4d37-a18f-c25cd8cd7fa5"
      },
      "execution_count": null,
      "outputs": [
        {
          "output_type": "stream",
          "name": "stdout",
          "text": [
            "[]\n"
          ]
        }
      ]
    },
    {
      "cell_type": "code",
      "source": [
        "print(L)\n",
        "L.pop(2)\n",
        "print(L)"
      ],
      "metadata": {
        "colab": {
          "base_uri": "https://localhost:8080/"
        },
        "id": "jIe6CzBpcxUV",
        "outputId": "06f75b8e-690b-41c6-eae7-fccb7091aa2e"
      },
      "execution_count": null,
      "outputs": [
        {
          "output_type": "stream",
          "name": "stdout",
          "text": [
            "[23, 45, 67, 5000, 8, 9, 345, 23, 56, 1000, 2000, 4000, [1000, 9000], [1000, 9000], [1000, 9000]]\n",
            "[23, 45, 5000, 8, 9, 345, 23, 56, 1000, 2000, 4000, [1000, 9000], [1000, 9000], [1000, 9000]]\n"
          ]
        }
      ]
    },
    {
      "cell_type": "code",
      "source": [
        "del L[10]\n",
        "print(L)"
      ],
      "metadata": {
        "colab": {
          "base_uri": "https://localhost:8080/"
        },
        "id": "oSeVjh3vc6w8",
        "outputId": "6999eda2-4745-4551-a7e4-b8e237677457"
      },
      "execution_count": null,
      "outputs": [
        {
          "output_type": "stream",
          "name": "stdout",
          "text": [
            "[23, 45, 5000, 8, 9, 345, 23, 56, 1000, 2000, [1000, 9000], [1000, 9000], [1000, 9000]]\n"
          ]
        }
      ]
    },
    {
      "cell_type": "code",
      "source": [
        "#max(), min(), count(), len(), sort(), sorted()\n",
        "\n",
        "# L.append(23)\n",
        "print(L)\n",
        "# print(max(L))\n",
        "# print(min(L))\n",
        "print(L.count(9))\n",
        "L.sort(reverse=True)\n",
        "print(L)\n",
        "print(sorted(L, reverse=True))\n"
      ],
      "metadata": {
        "colab": {
          "base_uri": "https://localhost:8080/"
        },
        "id": "S4pAPagGdLSe",
        "outputId": "f10378bf-bf09-4601-fc65-b08d19876729"
      },
      "execution_count": null,
      "outputs": [
        {
          "output_type": "stream",
          "name": "stdout",
          "text": [
            "[5000, 1000, 345, 56, 45, 23, 23, 23, 9, 8]\n",
            "1\n",
            "[5000, 1000, 345, 56, 45, 23, 23, 23, 9, 8]\n",
            "[5000, 1000, 345, 56, 45, 23, 23, 23, 9, 8]\n"
          ]
        }
      ]
    },
    {
      "cell_type": "code",
      "source": [],
      "metadata": {
        "id": "twJY3CbseWoF"
      },
      "execution_count": null,
      "outputs": []
    }
  ]
}