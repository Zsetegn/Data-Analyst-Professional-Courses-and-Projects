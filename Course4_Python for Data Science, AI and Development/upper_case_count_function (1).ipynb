{
  "nbformat": 4,
  "nbformat_minor": 0,
  "metadata": {
    "colab": {
      "provenance": []
    },
    "kernelspec": {
      "name": "python3",
      "display_name": "Python 3"
    },
    "language_info": {
      "name": "python"
    }
  },
  "cells": [
    {
      "cell_type": "code",
      "execution_count": null,
      "metadata": {
        "id": "ATWMvoIJMid9"
      },
      "outputs": [],
      "source": [
        "# Function to count the number of upper case letters in a string\n",
        "def checkupper(str):\n",
        "   count=0\n",
        "   for i in range(0, len(str)):\n",
        "       if str[i].isupper() :\n",
        "          count+=1\n",
        "   return count\n",
        "\n",
        "str1= input(\"please enter the string: \")\n",
        "uppercase_count= checkupper(str1)\n",
        "print(\"The number of uppercase letters in the string is: \", uppercase_count)"
      ]
    },
    {
      "cell_type": "code",
      "source": [
        "# Function  to compute area of rectangle\n",
        "def area(length, width):\n",
        "    return length*width\n",
        "\n",
        "dim1 = float(input(\"Please enter the length: \"))\n",
        "dim2 = float(input(\"please enter the width: \"))\n",
        "area_rectangle = area(dim1,dim2)\n",
        "print(\"The area of rectangle is: \", area_rectangle, \"square units\")"
      ],
      "metadata": {
        "id": "nPPSPAaQRBx0"
      },
      "execution_count": null,
      "outputs": []
    },
    {
      "cell_type": "code",
      "source": [],
      "metadata": {
        "id": "iB3rZkJtVoKY"
      },
      "execution_count": null,
      "outputs": []
    },
    {
      "cell_type": "code",
      "source": [
        "# Functions with no argument\n",
        "def greeting():\n",
        "    print(\"welcome come to learning python function\")\n",
        "\n",
        "greeting()"
      ],
      "metadata": {
        "id": "mFTDwVxtStvA",
        "colab": {
          "base_uri": "https://localhost:8080/"
        },
        "outputId": "84c2819f-7849-4a34-955b-70e27434452d"
      },
      "execution_count": 1,
      "outputs": [
        {
          "output_type": "stream",
          "name": "stdout",
          "text": [
            "welcome come to learning python function\n"
          ]
        }
      ]
    },
    {
      "cell_type": "code",
      "source": [
        "#Functions with default arguments\n",
        "def student(firstname, lastname ='Mark', standard ='Fifth'):\n",
        "\tprint(firstname, lastname, 'studies in', standard, 'Standard')\n",
        "\n",
        "# 1 positional argument\n",
        "student('John')\n",
        "\n",
        "# 3 positional arguments\n",
        "student('John', 'Gates', 'Seventh')\n",
        "\n",
        "# 2 positional arguments\n",
        "student('John', 'Gates')\n",
        "student('John', 'Seventh')\n"
      ],
      "metadata": {
        "id": "FWqHOrAnVpZP"
      },
      "execution_count": null,
      "outputs": []
    },
    {
      "cell_type": "markdown",
      "source": [],
      "metadata": {
        "id": "xlY3wN9kRvUZ"
      }
    }
  ]
}